{
 "cells": [
  {
   "cell_type": "code",
   "execution_count": 1,
   "metadata": {
    "ExecuteTime": {
     "end_time": "2019-08-16T13:47:53.071565Z",
     "start_time": "2019-08-16T13:47:52.746251Z"
    }
   },
   "outputs": [],
   "source": [
    "%matplotlib inline\n",
    "\n",
    "import matplotlib.pyplot as plt\n",
    "import torch"
   ]
  },
  {
   "cell_type": "code",
   "execution_count": 2,
   "metadata": {
    "ExecuteTime": {
     "end_time": "2019-08-16T13:47:53.092925Z",
     "start_time": "2019-08-16T13:47:53.072891Z"
    }
   },
   "outputs": [],
   "source": [
    "V = torch.load('issue.mat')"
   ]
  },
  {
   "cell_type": "markdown",
   "metadata": {},
   "source": [
    "# Cuda"
   ]
  },
  {
   "cell_type": "markdown",
   "metadata": {},
   "source": [
    "## Float precision"
   ]
  },
  {
   "cell_type": "code",
   "execution_count": 3,
   "metadata": {
    "ExecuteTime": {
     "end_time": "2019-08-16T13:47:57.054176Z",
     "start_time": "2019-08-16T13:47:53.094297Z"
    }
   },
   "outputs": [
    {
     "data": {
      "text/plain": [
       "tensor([-164.0271, -137.5216, -122.3605,  -49.1825,  -26.5110],\n",
       "       device='cuda:0')"
      ]
     },
     "execution_count": 3,
     "metadata": {},
     "output_type": "execute_result"
    }
   ],
   "source": [
    "V = V.cuda()\n",
    "V = V.type(torch.float)\n",
    "assert torch.equal(V, V.transpose(0, 1))\n",
    "\n",
    "e, _ = torch.symeig(V, eigenvectors=True)\n",
    "e, _ = torch.sort(e)\n",
    "e[:5]"
   ]
  },
  {
   "cell_type": "markdown",
   "metadata": {},
   "source": [
    "## Double precision"
   ]
  },
  {
   "cell_type": "code",
   "execution_count": 4,
   "metadata": {
    "ExecuteTime": {
     "end_time": "2019-08-16T13:47:58.935654Z",
     "start_time": "2019-08-16T13:47:57.055460Z"
    }
   },
   "outputs": [
    {
     "data": {
      "text/plain": [
       "tensor([-6.9714e-07,  6.8203e-04,  1.3151e-03,  2.6958e-03,  3.3810e-03],\n",
       "       device='cuda:0', dtype=torch.float64)"
      ]
     },
     "execution_count": 4,
     "metadata": {},
     "output_type": "execute_result"
    }
   ],
   "source": [
    "V = V.cuda()\n",
    "V = V.type(torch.float)\n",
    "V = V.type(torch.double)\n",
    "assert torch.equal(V, V.transpose(0, 1))\n",
    "\n",
    "e, _ = torch.symeig(V, eigenvectors=True)\n",
    "e, _ = torch.sort(e)\n",
    "e[:5]"
   ]
  },
  {
   "cell_type": "markdown",
   "metadata": {},
   "source": [
    "# CPU"
   ]
  },
  {
   "cell_type": "markdown",
   "metadata": {},
   "source": [
    "# Float precision"
   ]
  },
  {
   "cell_type": "code",
   "execution_count": 5,
   "metadata": {
    "ExecuteTime": {
     "end_time": "2019-08-16T13:48:04.789973Z",
     "start_time": "2019-08-16T13:47:58.937077Z"
    }
   },
   "outputs": [
    {
     "data": {
      "text/plain": [
       "tensor([-1.6859e+02, -4.7055e+01, -2.3623e+01, -2.0070e+01,  4.9508e-05])"
      ]
     },
     "execution_count": 5,
     "metadata": {},
     "output_type": "execute_result"
    }
   ],
   "source": [
    "V = V.cpu()\n",
    "V = V.type(torch.float)\n",
    "assert torch.equal(V, V.transpose(0, 1))\n",
    "\n",
    "e, _ = torch.symeig(V, eigenvectors=True)\n",
    "e, _ = torch.sort(e)\n",
    "e[:5]"
   ]
  },
  {
   "cell_type": "markdown",
   "metadata": {},
   "source": [
    "# Double precision"
   ]
  },
  {
   "cell_type": "code",
   "execution_count": 6,
   "metadata": {
    "ExecuteTime": {
     "end_time": "2019-08-16T13:48:06.685524Z",
     "start_time": "2019-08-16T13:48:04.791468Z"
    }
   },
   "outputs": [
    {
     "data": {
      "text/plain": [
       "tensor([-6.9714e-07,  6.8203e-04,  1.3151e-03,  2.6958e-03,  3.3810e-03],\n",
       "       device='cuda:0', dtype=torch.float64)"
      ]
     },
     "execution_count": 6,
     "metadata": {},
     "output_type": "execute_result"
    }
   ],
   "source": [
    "V = V.cuda()\n",
    "V = V.type(torch.float)\n",
    "V = V.type(torch.double)\n",
    "assert torch.equal(V, V.transpose(0, 1))\n",
    "\n",
    "e, _ = torch.symeig(V, eigenvectors=True)\n",
    "e, _ = torch.sort(e)\n",
    "e[:5]"
   ]
  }
 ],
 "metadata": {
  "kernelspec": {
   "display_name": "neurospectralization",
   "language": "python",
   "name": "neurospectralization"
  },
  "language_info": {
   "codemirror_mode": {
    "name": "ipython",
    "version": 3
   },
   "file_extension": ".py",
   "mimetype": "text/x-python",
   "name": "python",
   "nbconvert_exporter": "python",
   "pygments_lexer": "ipython3",
   "version": "3.7.3"
  }
 },
 "nbformat": 4,
 "nbformat_minor": 2
}
