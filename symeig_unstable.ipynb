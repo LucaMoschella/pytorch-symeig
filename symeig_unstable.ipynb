{
 "cells": [
  {
   "cell_type": "code",
   "execution_count": 7,
   "metadata": {
    "ExecuteTime": {
     "end_time": "2019-08-16T13:25:43.154941Z",
     "start_time": "2019-08-16T13:25:43.048443Z"
    }
   },
   "outputs": [],
   "source": [
    "%matplotlib inline\n",
    "\n",
    "import matplotlib.pyplot as plt\n",
    "import torch"
   ]
  },
  {
   "cell_type": "code",
   "execution_count": 3,
   "metadata": {
    "ExecuteTime": {
     "end_time": "2019-08-16T13:23:13.249260Z",
     "start_time": "2019-08-16T13:23:13.226799Z"
    }
   },
   "outputs": [],
   "source": [
    "V = torch.load('issue.mat')"
   ]
  },
  {
   "cell_type": "markdown",
   "metadata": {},
   "source": [
    "# Cuda"
   ]
  },
  {
   "cell_type": "markdown",
   "metadata": {},
   "source": [
    "## Float precision"
   ]
  },
  {
   "cell_type": "code",
   "execution_count": 4,
   "metadata": {
    "ExecuteTime": {
     "end_time": "2019-08-16T13:23:37.424658Z",
     "start_time": "2019-08-16T13:23:30.568129Z"
    }
   },
   "outputs": [
    {
     "data": {
      "text/plain": [
       "tensor([-1.6859e+02, -4.7055e+01, -2.3623e+01, -2.0070e+01,  4.9508e-05])"
      ]
     },
     "execution_count": 4,
     "metadata": {},
     "output_type": "execute_result"
    }
   ],
   "source": [
    "V = V.cuda()\n",
    "V = V.type(torch.float)\n",
    "assert torch.equal(V, V.transpose(0, 1))\n",
    "\n",
    "e, _ = torch.symeig(V, eigenvectors=True)\n",
    "e, _ = torch.sort(e)\n",
    "e[:5]"
   ]
  },
  {
   "cell_type": "markdown",
   "metadata": {},
   "source": [
    "## Double precision"
   ]
  },
  {
   "cell_type": "code",
   "execution_count": 5,
   "metadata": {
    "ExecuteTime": {
     "end_time": "2019-08-16T13:23:49.948787Z",
     "start_time": "2019-08-16T13:23:43.434510Z"
    }
   },
   "outputs": [
    {
     "data": {
      "text/plain": [
       "tensor([-6.9874e-07,  6.8203e-04,  1.3151e-03,  2.6958e-03,  3.3810e-03],\n",
       "       dtype=torch.float64)"
      ]
     },
     "execution_count": 5,
     "metadata": {},
     "output_type": "execute_result"
    }
   ],
   "source": [
    "V = V.cuda()\n",
    "V = V.type(torch.float)\n",
    "V = V.type(torch.double)\n",
    "assert torch.equal(V, V.transpose(0, 1))\n",
    "\n",
    "e, _ = torch.symeig(V, eigenvectors=True)\n",
    "e, _ = torch.sort(e)\n",
    "e[:5]"
   ]
  },
  {
   "cell_type": "markdown",
   "metadata": {},
   "source": [
    "# CPU"
   ]
  },
  {
   "cell_type": "markdown",
   "metadata": {},
   "source": [
    "# Float precision"
   ]
  },
  {
   "cell_type": "code",
   "execution_count": 20,
   "metadata": {
    "ExecuteTime": {
     "end_time": "2019-08-16T13:30:23.532270Z",
     "start_time": "2019-08-16T13:30:16.712666Z"
    }
   },
   "outputs": [
    {
     "data": {
      "text/plain": [
       "tensor([-1.6859e+02, -4.7055e+01, -2.3623e+01, -2.0070e+01,  4.9508e-05])"
      ]
     },
     "execution_count": 20,
     "metadata": {},
     "output_type": "execute_result"
    }
   ],
   "source": [
    "V = V.cpu()\n",
    "V = V.type(torch.float)\n",
    "assert torch.equal(V, V.transpose(0, 1))\n",
    "\n",
    "e, _ = torch.symeig(V, eigenvectors=True)\n",
    "e, _ = torch.sort(e)\n",
    "e[:5]"
   ]
  },
  {
   "cell_type": "markdown",
   "metadata": {},
   "source": [
    "# Double precision"
   ]
  },
  {
   "cell_type": "code",
   "execution_count": 21,
   "metadata": {
    "ExecuteTime": {
     "end_time": "2019-08-16T13:30:38.465783Z",
     "start_time": "2019-08-16T13:30:30.437750Z"
    }
   },
   "outputs": [
    {
     "data": {
      "text/plain": [
       "tensor([-6.9714e-07,  6.8203e-04,  1.3151e-03,  2.6958e-03,  3.3810e-03],\n",
       "       device='cuda:0', dtype=torch.float64)"
      ]
     },
     "execution_count": 21,
     "metadata": {},
     "output_type": "execute_result"
    }
   ],
   "source": [
    "V = V.cuda()\n",
    "V = V.type(torch.float)\n",
    "V = V.type(torch.double)\n",
    "assert torch.equal(V, V.transpose(0, 1))\n",
    "\n",
    "e, _ = torch.symeig(V, eigenvectors=True)\n",
    "e, _ = torch.sort(e)\n",
    "e[:5]"
   ]
  },
  {
   "cell_type": "code",
   "execution_count": null,
   "metadata": {},
   "outputs": [],
   "source": []
  }
 ],
 "metadata": {
  "kernelspec": {
   "display_name": "neurospectralization",
   "language": "python",
   "name": "neurospectralization"
  },
  "language_info": {
   "codemirror_mode": {
    "name": "ipython",
    "version": 3
   },
   "file_extension": ".py",
   "mimetype": "text/x-python",
   "name": "python",
   "nbconvert_exporter": "python",
   "pygments_lexer": "ipython3",
   "version": "3.7.3"
  }
 },
 "nbformat": 4,
 "nbformat_minor": 2
}
